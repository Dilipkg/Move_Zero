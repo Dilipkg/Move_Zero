{
 "cells": [
  {
   "cell_type": "code",
   "execution_count": 3,
   "id": "fc360142-5931-4a3e-8c6c-83bdf8b7274a",
   "metadata": {},
   "outputs": [
    {
     "name": "stdout",
     "output_type": "stream",
     "text": [
      "[1, 3, 12, 0, 0]\n"
     ]
    }
   ],
   "source": [
    "nums = [0,1,0,3,12]\n",
    "n = len(nums)\n",
    "i = 0\n",
    "for j in range(n):\n",
    "    if (nums[j] != 0):\n",
    "        nums[i], nums[j] = nums[j], nums[i]\n",
    "        i += 1\n",
    "print(nums)"
   ]
  },
  {
   "cell_type": "code",
   "execution_count": 12,
   "id": "962af7f8-388b-4223-a72a-a6b745865bfa",
   "metadata": {},
   "outputs": [],
   "source": [
    "nums=[0,1,0,3,12] "
   ]
  },
  {
   "cell_type": "code",
   "execution_count": 14,
   "id": "cf2532e6-c515-430a-a6af-dd4fa281a30b",
   "metadata": {},
   "outputs": [
    {
     "ename": "TypeError",
     "evalue": "moveZeroes() missing 1 required positional argument: 'nums'",
     "output_type": "error",
     "traceback": [
      "\u001b[0;31m---------------------------------------------------------------------------\u001b[0m",
      "\u001b[0;31mTypeError\u001b[0m                                 Traceback (most recent call last)",
      "Cell \u001b[0;32mIn[14], line 8\u001b[0m\n\u001b[1;32m      6\u001b[0m                 nums[i], nums[j] \u001b[38;5;241m=\u001b[39m nums[j], nums[i]\n\u001b[1;32m      7\u001b[0m                 i \u001b[38;5;241m+\u001b[39m\u001b[38;5;241m=\u001b[39m \u001b[38;5;241m1\u001b[39m      \n\u001b[0;32m----> 8\u001b[0m \u001b[38;5;28mprint\u001b[39m(\u001b[43mmoveZeroes\u001b[49m\u001b[43m(\u001b[49m\u001b[43mnums\u001b[49m\u001b[43m)\u001b[49m)\n",
      "\u001b[0;31mTypeError\u001b[0m: moveZeroes() missing 1 required positional argument: 'nums'"
     ]
    }
   ],
   "source": [
    "\n",
    "\n",
    "def moveZeroes(self, nums):\n",
    "        n = len(nums)\n",
    "        i = 0\n",
    "        for j in range(n):\n",
    "            if (nums[j] != 0):\n",
    "                nums[i], nums[j] = nums[j], nums[i]\n",
    "                i += 1      \n",
    "print(moveZeroes()"
   ]
  },
  {
   "cell_type": "code",
   "execution_count": null,
   "id": "95e71cf1-79c4-48ae-a8e1-0ceae6032002",
   "metadata": {},
   "outputs": [],
   "source": []
  }
 ],
 "metadata": {
  "kernelspec": {
   "display_name": "Python 3 (ipykernel)",
   "language": "python",
   "name": "python3"
  },
  "language_info": {
   "codemirror_mode": {
    "name": "ipython",
    "version": 3
   },
   "file_extension": ".py",
   "mimetype": "text/x-python",
   "name": "python",
   "nbconvert_exporter": "python",
   "pygments_lexer": "ipython3",
   "version": "3.10.8"
  }
 },
 "nbformat": 4,
 "nbformat_minor": 5
}
